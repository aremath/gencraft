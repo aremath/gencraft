{
 "cells": [
  {
   "cell_type": "code",
   "execution_count": 1,
   "metadata": {},
   "outputs": [],
   "source": [
    "%load_ext autoreload\n",
    "%autoreload 2"
   ]
  },
  {
   "cell_type": "code",
   "execution_count": 18,
   "metadata": {},
   "outputs": [],
   "source": [
    "from src import parser\n",
    "import numpy as np\n",
    "from simplexnoise.noise import SimplexNoise, normalize\n",
    "from PIL import Image"
   ]
  },
  {
   "cell_type": "code",
   "execution_count": 134,
   "metadata": {},
   "outputs": [],
   "source": [
    "s3d = SimplexNoise(num_octaves=7, persistence=0.1, dimensions=3)\n",
    "s2d = SimplexNoise(num_octaves=7, persistence=0.1, dimensions=2)"
   ]
  },
  {
   "cell_type": "code",
   "execution_count": 123,
   "metadata": {},
   "outputs": [],
   "source": [
    "def noise(x_size, y_size, z_size):\n",
    "    pass\n",
    "\n",
    "def edge_distance(x, y, x_size, y_size):\n",
    "    x0 = x_size - x\n",
    "    y0 = y_size - y\n",
    "    return min(x,y,x0,y0)\n",
    "\n",
    "def edge_contrib(x, y, x_size, y_size, d_threshold):\n",
    "    d = edge_distance(x,y,x_size,y_size)\n",
    "    if d < d_threshold:\n",
    "        d_contrib = d/d_threshold\n",
    "    else:\n",
    "        d_contrib = 1\n",
    "    return d_contrib\n",
    "\n",
    "def circle_contrib(x, y, x_size, y_size, d_threshold):\n",
    "    center = np.array([x_size/2, y_size/2])\n",
    "    xy = np.array([x,y])\n",
    "    cv = xy - center\n",
    "    #cd = (cv @ cv)**(1/2)\n",
    "    cd = (cv @ cv)**(3/4)\n",
    "    if cd == 0:\n",
    "        return 1\n",
    "    else:\n",
    "        val = d_threshold * 1/cd\n",
    "        if val > 1:\n",
    "            return 1\n",
    "        else:\n",
    "            return val"
   ]
  },
  {
   "cell_type": "code",
   "execution_count": 124,
   "metadata": {},
   "outputs": [],
   "source": [
    "def y_noise(x_size, y_size, d_threshold):\n",
    "    a = np.zeros((x_size, y_size), np.uint8)\n",
    "    for index, _ in np.ndenumerate(a):\n",
    "        x,y = index\n",
    "        xy = np.array([x,y])\n",
    "        contrib = circle_contrib(x,y,x_size,y_size,d_threshold)\n",
    "        a[index] = contrib * normalize(s2d.fractal(x, y, hgrid=x_size)) * 255\n",
    "        #a[index] = normalize(s2d.fractal(x, y, hgrid=x_size)) * 255\n",
    "    return a"
   ]
  },
  {
   "cell_type": "code",
   "execution_count": 135,
   "metadata": {},
   "outputs": [],
   "source": [
    "a = y_noise(100, 100, 90)"
   ]
  },
  {
   "cell_type": "code",
   "execution_count": 136,
   "metadata": {},
   "outputs": [],
   "source": [
    "img = Image.fromarray(a, mode=\"L\")"
   ]
  },
  {
   "cell_type": "code",
   "execution_count": 137,
   "metadata": {},
   "outputs": [],
   "source": [
    "img.save(\"ayy.png\")"
   ]
  },
  {
   "cell_type": "code",
   "execution_count": null,
   "metadata": {},
   "outputs": [],
   "source": []
  },
  {
   "cell_type": "code",
   "execution_count": null,
   "metadata": {},
   "outputs": [],
   "source": []
  }
 ],
 "metadata": {
  "kernelspec": {
   "display_name": "Python3.9",
   "language": "python",
   "name": "python3"
  },
  "language_info": {
   "codemirror_mode": {
    "name": "ipython",
    "version": 3
   },
   "file_extension": ".py",
   "mimetype": "text/x-python",
   "name": "python",
   "nbconvert_exporter": "python",
   "pygments_lexer": "ipython3",
   "version": "3.9.2"
  }
 },
 "nbformat": 4,
 "nbformat_minor": 4
}
